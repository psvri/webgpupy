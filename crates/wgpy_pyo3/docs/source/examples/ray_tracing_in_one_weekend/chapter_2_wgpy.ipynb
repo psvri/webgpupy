{
 "cells": [
  {
   "cell_type": "markdown",
   "metadata": {},
   "source": [
    "# Chapter 2"
   ]
  },
  {
   "cell_type": "code",
   "execution_count": 1,
   "metadata": {},
   "outputs": [],
   "source": [
    "from PIL import Image\n",
    "import webgpupy as np\n",
    "\n",
    "image_width = 640\n",
    "image_height = 360\n",
    "\n",
    "def convert_to_image(pixels):\n",
    "    import numpy\n",
    "    image_array = numpy.array(pixels, dtype= 'uint8').reshape([image_height, image_width, 3])\n",
    "    return Image.fromarray(image_array, 'RGB')"
   ]
  },
  {
   "cell_type": "code",
   "execution_count": 2,
   "metadata": {},
   "outputs": [
    {
     "name": "stdout",
     "output_type": "stream",
     "text": [
      "[360, 640, 3]\n"
     ]
    },
    {
     "data": {
      "image/png": "[encoded data removed]",
      "text/plain": [
       "<PIL.Image.Image image mode=RGB size=640x360>"
      ]
     },
     "execution_count": 2,
     "metadata": {},
     "output_type": "execute_result"
    }
   ],
   "source": [
    "row = [(i/image_width) for i in reversed(range(0, image_width))]\n",
    "column = [(i/image_height) for i in range(0, image_height)]\n",
    "\n",
    "r = np.array(row).reshape([1, image_width])\n",
    "g = np.array(column).reshape([image_height, 1])\n",
    "b = np.full([image_height, image_width], 0.25)\n",
    "\n",
    "r = np.repeat(r, image_height, axis=0)\n",
    "g = np.repeat(g, image_width, axis=1)\n",
    "\n",
    "pixels = np.dstack([r,g,b])\n",
    "print(pixels.shape)\n",
    "pixels = (pixels * 255.0).astype('uint8')\n",
    "k = pixels.flatten().tolist()\n",
    "convert_to_image(k)"
   ]
  }
 ],
 "metadata": {
  "kernelspec": {
   "display_name": "webgpupy",
   "language": "python",
   "name": "python3"
  },
  "language_info": {
   "codemirror_mode": {
    "name": "ipython",
    "version": 3
   },
   "file_extension": ".py",
   "mimetype": "text/x-python",
   "name": "python",
   "nbconvert_exporter": "python",
   "pygments_lexer": "ipython3",
   "version": "3.11.5"
  }
 },
 "nbformat": 4,
 "nbformat_minor": 2
}
